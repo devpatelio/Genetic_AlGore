{
 "cells": [
  {
   "cell_type": "code",
   "execution_count": 62,
   "metadata": {},
   "outputs": [],
   "source": [
    "def _read(filename):\n",
    "    with open(filename, 'r') as sqinput:\n",
    "        sqinput = sqinput.read().splitlines()\n",
    "    return sqinput\n",
    "\n",
    "def Composition(k, text):\n",
    "    return [text[i:k+i] for i in range(len(text)-k+1)]\n",
    "\n",
    "def Overlap(strings):\n",
    "    final = [strings[0]]\n",
    "    final += [i[-1] for i in strings[1:]]\n",
    "    return ''.join(final)\n",
    "\n",
    "def OverlapGraph(strings):\n",
    "    k = len(strings[0])\n",
    "    prefs = [i[:k-1] for i in strings]\n",
    "    suffs = [i[-(k-1):] for i in strings]\n",
    "\n",
    "    dic = {}\n",
    "\n",
    "    for z, suff in enumerate(suffs):\n",
    "        dic[strings[z]] = []\n",
    "        for x, pref in enumerate(prefs):\n",
    "            if pref == suff:\n",
    "                dic[strings[z]].append(strings[x])\n",
    "    \n",
    "    formatted = '\\n'.join([f\"{key} -> {','.join(values)}\" for key, values in dic.items() if dic[key] != []])\n",
    "    return dic, formatted\n",
    "                \n",
    "def DeBruijn(k, text):\n",
    "    k -= 1\n",
    "    all_mers = Composition(k-1, text)\n",
    "    debruijn = {}\n",
    "\n",
    "    for i in range(len(text)-k+1):\n",
    "        preffix = text[i:k+i]\n",
    "        if preffix in debruijn:\n",
    "            debruijn[preffix] = [debruijn[preffix], text[i+1:i+k+1]]\n",
    "        else:\n",
    "            debruijn[preffix] = text[i+1:i+k+1]\n",
    "\n",
    "    return debruijn\n",
    "\n",
    "def MerDeBruijn(strings):\n",
    "    preffs = [i[:-1] for i in strings]\n",
    "    suffs = [i[1:] for i in strings]\n",
    "\n",
    "    merdebruijn = {}\n",
    "    for idx, i in enumerate(preffs):\n",
    "        if i in merdebruijn:\n",
    "            merdebruijn[i] = [merdebruijn[i], suffs[idx]]\n",
    "        else:\n",
    "            merdebruijn[i] = suffs[idx]\n",
    "    return dict(sorted(merdebruijn.items()))\n",
    "\n"
   ]
  },
  {
   "cell_type": "code",
   "execution_count": 63,
   "metadata": {},
   "outputs": [
    {
     "name": "stdout",
     "output_type": "stream",
     "text": [
      "['CAATC', 'AATCC', 'ATCCA', 'TCCAA', 'CCAAC']\n",
      "ACCGAAGCT\n",
      "GCATG -> CATGC\n",
      "CATGC -> ATGCG\n",
      "AGGCA -> GGCAT,GGCAC\n",
      "GGCAT -> GCATG\n",
      "{'AAG': ['AGA', 'AGA'], 'AGA': ['GAT', 'GA'], 'GAT': 'ATT', 'ATT': 'TTC', 'TTC': 'TCT', 'TCT': ['CTC', 'CTA'], 'CTC': 'TCT', 'CTA': 'TAA', 'TAA': 'AAG'}\n",
      "{'AGG': 'GGG', 'CAG': ['AGG', 'AGG'], 'GAG': 'AGG', 'GGA': 'GAG', 'GGG': ['GGG', 'GGA']}\n"
     ]
    }
   ],
   "source": [
    "print(Composition(5, 'CAATCCAAC'))\n",
    "print(Overlap(['ACCGA', 'CCGAA', 'CGAAG', 'GAAGC', 'AAGCT']))\n",
    "directional, p = OverlapGraph(['ATGCG', 'GCATG', 'CATGC', 'AGGCA', 'GGCAT', 'GGCAC'])\n",
    "print(p)\n",
    "print(DeBruijn(4, 'AAGATTCTCTAAGA'))\n",
    "print(MerDeBruijn(['GAGG', 'CAGG', 'GGGG', 'GGGA', 'CAGG', 'AGGG', 'GGAG']))"
   ]
  },
  {
   "cell_type": "code",
   "execution_count": null,
   "metadata": {},
   "outputs": [],
   "source": []
  }
 ],
 "metadata": {
  "language_info": {
   "name": "python",
   "nbconvert_exporter": "python"
  },
  "orig_nbformat": 4
 },
 "nbformat": 4,
 "nbformat_minor": 2
}